{
 "cells": [
  {
   "cell_type": "code",
   "execution_count": 5,
   "id": "blind-aberdeen",
   "metadata": {},
   "outputs": [],
   "source": [
    "import numpy as n\n",
    "import math"
   ]
  },
  {
   "cell_type": "code",
   "execution_count": 6,
   "id": "environmental-carroll",
   "metadata": {},
   "outputs": [],
   "source": [
    "def mag(vec):\n",
    "    x = vec[0]\n",
    "    y = vec[1]\n",
    "    \n",
    "    return math.sqrt(x**2 + y**2)"
   ]
  },
  {
   "cell_type": "code",
   "execution_count": 7,
   "id": "timely-latvia",
   "metadata": {},
   "outputs": [],
   "source": [
    "def unit(vec):\n",
    "    x = vec[0]\n",
    "    y = vec[1]\n",
    "    m = mag(vec)\n",
    "    \n",
    "    return n.array([x/m, y/m])"
   ]
  },
  {
   "cell_type": "code",
   "execution_count": 11,
   "id": "reverse-breath",
   "metadata": {},
   "outputs": [],
   "source": [
    "def rot90(vec):\n",
    "    x = vec[0]\n",
    "    y = vec[1]\n",
    "    \n",
    "    return n.array([-y, x])"
   ]
  },
  {
   "cell_type": "code",
   "execution_count": 13,
   "id": "homeless-recording",
   "metadata": {},
   "outputs": [],
   "source": [
    "a = n.array([3, 2])\n",
    "b = n.array([8, 7])\n",
    "c = n.array([1, 5])"
   ]
  },
  {
   "cell_type": "code",
   "execution_count": 14,
   "id": "chicken-dallas",
   "metadata": {},
   "outputs": [
    {
     "name": "stdout",
     "output_type": "stream",
     "text": [
      "[6 4]\n"
     ]
    }
   ],
   "source": [
    "print(2*a)"
   ]
  },
  {
   "cell_type": "code",
   "execution_count": 15,
   "id": "buried-capture",
   "metadata": {},
   "outputs": [
    {
     "name": "stdout",
     "output_type": "stream",
     "text": [
      "[10  4]\n"
     ]
    }
   ],
   "source": [
    "print(a+b-c)"
   ]
  },
  {
   "cell_type": "code",
   "execution_count": 20,
   "id": "moving-narrative",
   "metadata": {},
   "outputs": [
    {
     "name": "stdout",
     "output_type": "stream",
     "text": [
      "13\n",
      "12.999999999999998\n",
      "38\n",
      "38.3275357934736\n"
     ]
    }
   ],
   "source": [
    "print(n.dot(a, a))\n",
    "print(mag(a)*mag(a))\n",
    "print(n.dot(a, b))\n",
    "print(mag(a)*mag(b))"
   ]
  },
  {
   "cell_type": "code",
   "execution_count": 21,
   "id": "advisory-clause",
   "metadata": {},
   "outputs": [],
   "source": [
    "a90 = rot90(a)"
   ]
  },
  {
   "cell_type": "code",
   "execution_count": 22,
   "id": "considerable-baking",
   "metadata": {},
   "outputs": [
    {
     "name": "stdout",
     "output_type": "stream",
     "text": [
      "0\n"
     ]
    }
   ],
   "source": [
    "print(n.dot(a, a90))"
   ]
  },
  {
   "cell_type": "code",
   "execution_count": null,
   "id": "beginning-vietnam",
   "metadata": {},
   "outputs": [],
   "source": []
  }
 ],
 "metadata": {
  "kernelspec": {
   "display_name": "Python 3",
   "language": "python",
   "name": "python3"
  },
  "language_info": {
   "codemirror_mode": {
    "name": "ipython",
    "version": 3
   },
   "file_extension": ".py",
   "mimetype": "text/x-python",
   "name": "python",
   "nbconvert_exporter": "python",
   "pygments_lexer": "ipython3",
   "version": "3.9.0"
  }
 },
 "nbformat": 4,
 "nbformat_minor": 5
}
